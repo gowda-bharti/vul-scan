{
 "cells": [
  {
   "cell_type": "code",
   "execution_count": 33,
   "id": "increased-latter",
   "metadata": {},
   "outputs": [],
   "source": [
    "import matplotlib.pyplot as plt\n",
    "import numpy as np\n",
    "import tensorflow as tf\n",
    "import pickle\n",
    "import pandas as pd"
   ]
  },
  {
   "cell_type": "markdown",
   "id": "military-peter",
   "metadata": {},
   "source": [
    "## History Files"
   ]
  },
  {
   "cell_type": "code",
   "execution_count": 12,
   "id": "latter-blocking",
   "metadata": {},
   "outputs": [],
   "source": [
    "with open('../history/binary_trainHistory', 'rb') as history_file:\n",
    "        binary_history = pickle.load(history_file)"
   ]
  },
  {
   "cell_type": "code",
   "execution_count": 13,
   "id": "functional-stock",
   "metadata": {},
   "outputs": [],
   "source": [
    "with open('../history/CWE119_trainHistory', 'rb') as history_file:\n",
    "        CWE119_history = pickle.load(history_file)"
   ]
  },
  {
   "cell_type": "code",
   "execution_count": 14,
   "id": "electric-analysis",
   "metadata": {},
   "outputs": [],
   "source": [
    "with open('../history/CWE120_trainHistory', 'rb') as history_file:\n",
    "        CWE120_history = pickle.load(history_file)"
   ]
  },
  {
   "cell_type": "code",
   "execution_count": 15,
   "id": "mediterranean-usage",
   "metadata": {},
   "outputs": [],
   "source": [
    "with open('../history/CWE469_trainHistory', 'rb') as history_file:\n",
    "        CWE469_history = pickle.load(history_file)"
   ]
  },
  {
   "cell_type": "code",
   "execution_count": 17,
   "id": "desperate-quick",
   "metadata": {},
   "outputs": [],
   "source": [
    "with open('../history/CWE476_trainHistory', 'rb') as history_file:\n",
    "        CWE470_history = pickle.load(history_file)"
   ]
  },
  {
   "cell_type": "code",
   "execution_count": 18,
   "id": "smoking-toolbox",
   "metadata": {},
   "outputs": [],
   "source": [
    "with open('../history/CWE-others_trainHistory', 'rb') as history_file:\n",
    "        others_history = pickle.load(history_file)"
   ]
  },
  {
   "cell_type": "code",
   "execution_count": 19,
   "id": "suspected-panic",
   "metadata": {
    "scrolled": true
   },
   "outputs": [
    {
     "data": {
      "text/plain": [
       "dict_keys(['loss', 'tp', 'fp', 'tn', 'fn', 'accuracy', 'precision', 'recall', 'auc', 'val_loss', 'val_tp', 'val_fp', 'val_tn', 'val_fn', 'val_accuracy', 'val_precision', 'val_recall', 'val_auc'])"
      ]
     },
     "execution_count": 19,
     "metadata": {},
     "output_type": "execute_result"
    }
   ],
   "source": [
    "binary_history.keys()"
   ]
  },
  {
   "cell_type": "markdown",
   "id": "velvet-avatar",
   "metadata": {},
   "source": [
    "## Training Loss"
   ]
  },
  {
   "cell_type": "code",
   "execution_count": 110,
   "id": "returning-hostel",
   "metadata": {},
   "outputs": [
    {
     "data": {
      "image/png": "[encoded data removed]",
      "text/plain": [
       "<Figure size 432x288 with 1 Axes>"
      ]
     },
     "metadata": {
      "needs_background": "light"
     },
     "output_type": "display_data"
    }
   ],
   "source": [
    "plt.title('Training Loss')\n",
    "plt.ylabel('Loss')\n",
    "plt.xlabel('Epoch')\n",
    "plt.plot(binary_history['loss'], label='Binary')\n",
    "plt.plot(CWE119_history['loss'], label='CWE119')\n",
    "plt.plot(CWE120_history['loss'], label='CWE120')\n",
    "plt.plot(CWE469_history['loss'], label='CWE469')\n",
    "plt.plot(CWE470_history['loss'], label='CWE470')\n",
    "plt.plot(others_history['loss'], label='Others')\n",
    "plt.legend()\n",
    "plt.savefig('train_loss.png')"
   ]
  },
  {
   "cell_type": "code",
   "execution_count": 34,
   "id": "intelligent-offset",
   "metadata": {
    "scrolled": true
   },
   "outputs": [],
   "source": [
    "test_data = pd.read_pickle(\"../dataset/test.pickle\")"
   ]
  },
  {
   "cell_type": "code",
   "execution_count": 43,
   "id": "applicable-training",
   "metadata": {},
   "outputs": [],
   "source": [
    "with open('../tokenizer/tokenizer.pickle', 'rb') as handle:\n",
    "    tokenizer = pickle.load(handle)"
   ]
  },
  {
   "cell_type": "code",
   "execution_count": 44,
   "id": "interstate-wright",
   "metadata": {},
   "outputs": [],
   "source": [
    "test_tokenized = tokenizer.texts_to_sequences(test_data[0])\n",
    "x_test = tf.keras.preprocessing.sequence.pad_sequences(test_tokenized, maxlen=500, padding=\"post\")"
   ]
  },
  {
   "cell_type": "code",
   "execution_count": 45,
   "id": "noted-tunnel",
   "metadata": {},
   "outputs": [],
   "source": [
    "binary_model = tf.keras.models.load_model('../trained_model/Simple_CNN_binary')"
   ]
  },
  {
   "cell_type": "code",
   "execution_count": 46,
   "id": "civilian-playing",
   "metadata": {},
   "outputs": [],
   "source": [
    "y_test_binary = (test_data[test_data.columns[1:]]).any(axis=1, bool_only=bool).astype(int)"
   ]
  },
  {
   "cell_type": "code",
   "execution_count": 47,
   "id": "female-franchise",
   "metadata": {},
   "outputs": [],
   "source": [
    "CWE119_model = tf.keras.models.load_model('../trained_model/Simple_CNN_CWE119')"
   ]
  },
  {
   "cell_type": "code",
   "execution_count": 48,
   "id": "conditional-punch",
   "metadata": {},
   "outputs": [],
   "source": [
    "y_test_CWE119 = test_data[test_data.columns[1]].astype(int)"
   ]
  },
  {
   "cell_type": "code",
   "execution_count": 49,
   "id": "egyptian-railway",
   "metadata": {},
   "outputs": [],
   "source": [
    "CWE120_model = tf.keras.models.load_model('../trained_model/Simple_CNN_CWE120')"
   ]
  },
  {
   "cell_type": "code",
   "execution_count": 50,
   "id": "warming-integral",
   "metadata": {},
   "outputs": [],
   "source": [
    "y_test_CWE120 = test_data[test_data.columns[2]].astype(int)"
   ]
  },
  {
   "cell_type": "code",
   "execution_count": 51,
   "id": "undefined-judge",
   "metadata": {},
   "outputs": [],
   "source": [
    "CWE469_model = tf.keras.models.load_model('../trained_model/Simple_CNN_CWE469')"
   ]
  },
  {
   "cell_type": "code",
   "execution_count": 52,
   "id": "functional-combination",
   "metadata": {},
   "outputs": [],
   "source": [
    "y_test_CWE469 = test_data[test_data.columns[3]].astype(int)"
   ]
  },
  {
   "cell_type": "code",
   "execution_count": 53,
   "id": "formal-brass",
   "metadata": {},
   "outputs": [],
   "source": [
    "CWE476_model = tf.keras.models.load_model('../trained_model/Simple_CNN_CWE476')"
   ]
  },
  {
   "cell_type": "code",
   "execution_count": 54,
   "id": "handy-utility",
   "metadata": {},
   "outputs": [],
   "source": [
    "y_test_CWE476 = test_data[test_data.columns[4]].astype(int)"
   ]
  },
  {
   "cell_type": "code",
   "execution_count": 55,
   "id": "demographic-facility",
   "metadata": {},
   "outputs": [],
   "source": [
    "others_model = tf.keras.models.load_model('../trained_model/Simple_CNN_CWE-others')"
   ]
  },
  {
   "cell_type": "code",
   "execution_count": 56,
   "id": "cultural-antique",
   "metadata": {},
   "outputs": [],
   "source": [
    "y_test_others = test_data[test_data.columns[5]].astype(int)"
   ]
  },
  {
   "cell_type": "code",
   "execution_count": 57,
   "id": "delayed-fantasy",
   "metadata": {
    "scrolled": false
   },
   "outputs": [
    {
     "name": "stdout",
     "output_type": "stream",
     "text": [
      "996/996 [==============================] - 87s 87ms/step - loss: 0.3855 - tp: 6496.0000 - fp: 18857.0000 - tn: 100309.0000 - fn: 1757.0000 - accuracy: 0.8382 - precision: 0.2562 - recall: 0.7871 - auc: 0.8785\n"
     ]
    }
   ],
   "source": [
    "binary_test = binary_model.evaluate(x_test, y_test_binary, batch_size=128)"
   ]
  },
  {
   "cell_type": "code",
   "execution_count": 60,
   "id": "forty-oxide",
   "metadata": {},
   "outputs": [
    {
     "name": "stdout",
     "output_type": "stream",
     "text": [
      "996/996 [==============================] - 82s 82ms/step - loss: 0.1933 - tp: 1976.0000 - fp: 8410.0000 - tn: 116557.0000 - fn: 476.0000 - accuracy: 0.9303 - precision: 0.1903 - recall: 0.8059 - auc: 0.9275\n"
     ]
    }
   ],
   "source": [
    "CWE119_test = CWE119_model.evaluate(x_test, y_test_CWE119, batch_size=128)"
   ]
  },
  {
   "cell_type": "code",
   "execution_count": 61,
   "id": "democratic-repository",
   "metadata": {},
   "outputs": [
    {
     "name": "stdout",
     "output_type": "stream",
     "text": [
      "996/996 [==============================] - 85s 85ms/step - loss: 0.2670 - tp: 4180.0000 - fp: 11467.0000 - tn: 111061.0000 - fn: 711.0000 - accuracy: 0.9044 - precision: 0.2671 - recall: 0.8546 - auc: 0.9274\n"
     ]
    }
   ],
   "source": [
    "CWE120_test = CWE120_model.evaluate(x_test, y_test_CWE120, batch_size=128)"
   ]
  },
  {
   "cell_type": "code",
   "execution_count": 62,
   "id": "solved-paraguay",
   "metadata": {},
   "outputs": [
    {
     "name": "stdout",
     "output_type": "stream",
     "text": [
      "996/996 [==============================] - 94s 94ms/step - loss: 0.1580 - tp: 171.0000 - fp: 5870.0000 - tn: 121271.0000 - fn: 107.0000 - accuracy: 0.9531 - precision: 0.0283 - recall: 0.6151 - auc: 0.8540\n"
     ]
    }
   ],
   "source": [
    "CWE469_test = CWE469_model.evaluate(x_test, y_test_CWE469, batch_size=128)"
   ]
  },
  {
   "cell_type": "code",
   "execution_count": 63,
   "id": "induced-joyce",
   "metadata": {},
   "outputs": [
    {
     "name": "stdout",
     "output_type": "stream",
     "text": [
      "996/996 [==============================] - 94s 94ms/step - loss: 0.2025 - tp: 808.0000 - fp: 10339.0000 - tn: 115888.0000 - fn: 384.0000 - accuracy: 0.9158 - precision: 0.0725 - recall: 0.6779 - auc: 0.8496\n"
     ]
    }
   ],
   "source": [
    "CWE476_test = CWE476_model.evaluate(x_test, y_test_CWE476, batch_size=128)"
   ]
  },
  {
   "cell_type": "code",
   "execution_count": 64,
   "id": "united-incentive",
   "metadata": {
    "scrolled": false
   },
   "outputs": [
    {
     "name": "stdout",
     "output_type": "stream",
     "text": [
      "996/996 [==============================] - 90s 90ms/step - loss: 0.2960 - tp: 2640.0000 - fp: 17149.0000 - tn: 106780.0000 - fn: 850.0000 - accuracy: 0.8587 - precision: 0.1334 - recall: 0.7564 - auc: 0.8812 2s - loss: 0.2967 - tp: 2549.0000 - fp: 16629.0000 - tn: 103256.0000 - fn: 830.0000 - accuracy: 0.8584 - precision: 0.13\n"
     ]
    }
   ],
   "source": [
    "others_test = others_model.evaluate(x_test, y_test_others, batch_size=128)"
   ]
  },
  {
   "cell_type": "markdown",
   "id": "uniform-pepper",
   "metadata": {},
   "source": [
    "## Testing Results"
   ]
  },
  {
   "cell_type": "code",
   "execution_count": 111,
   "id": "significant-cambridge",
   "metadata": {},
   "outputs": [
    {
     "data": {
      "image/png": "[encoded data removed]",
      "text/plain": [
       "<Figure size 432x288 with 1 Axes>"
      ]
     },
     "metadata": {
      "needs_background": "light"
     },
     "output_type": "display_data"
    }
   ],
   "source": [
    "accuracy = [binary_test[5], CWE119_test[5], CWE120_test[5], CWE469_test[5], CWE476_test[5], others_test[5]]\n",
    "AUC = [binary_test[8], CWE119_test[8], CWE120_test[8], CWE469_test[8], CWE476_test[8], others_test[8]]\n",
    "recall = [binary_test[7], CWE119_test[7], CWE120_test[7], CWE469_test[7], CWE476_test[7], others_test[7]]\n",
    "tick_label = ['Binary', 'CWE119', 'CWE120', 'CWE469', 'CWE476', 'Others']\n",
    "\n",
    "x=np.arange(6)\n",
    "\n",
    "width=0.25\n",
    "\n",
    "plt.bar(x - width, accuracy, width=width, label='Accuracy')\n",
    "plt.bar(x, AUC, width=width, label='AUC')\n",
    "plt.bar(x + width, recall, width=width, label='Recall')\n",
    "plt.title('Test Results')\n",
    "plt.ylabel('Accuracy')\n",
    "plt.xlabel('Models')\n",
    "plt.legend()\n",
    "plt.xticks(x,tick_label)\n",
    "plt.ylim(ymin = 0.6)\n",
    "plt.savefig('test_results.png')"
   ]
  }
 ],
 "metadata": {
  "kernelspec": {
   "display_name": "Python 3",
   "language": "python",
   "name": "python3"
  },
  "language_info": {
   "codemirror_mode": {
    "name": "ipython",
    "version": 3
   },
   "file_extension": ".py",
   "mimetype": "text/x-python",
   "name": "python",
   "nbconvert_exporter": "python",
   "pygments_lexer": "ipython3",
   "version": "3.8.8"
  }
 },
 "nbformat": 4,
 "nbformat_minor": 5
}
