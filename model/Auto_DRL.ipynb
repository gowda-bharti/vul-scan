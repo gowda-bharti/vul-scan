{
 "cells": [
  {
   "cell_type": "code",
   "execution_count": 2,
   "metadata": {
    "scrolled": true
   },
   "outputs": [],
   "source": [
    "import numpy as np\n",
    "import pandas as pd\n",
    "import tensorflow as tf\n",
    "import pickle"
   ]
  },
  {
   "cell_type": "markdown",
   "metadata": {},
   "source": [
    "##  Data Preprocessing"
   ]
  },
  {
   "cell_type": "code",
   "execution_count": 3,
   "metadata": {},
   "outputs": [],
   "source": [
    "# Loading formatted data\n",
    "# I use format the data into pd dataframe\n",
    "# See data_formatting.ipynb for details\n",
    "train_data = pd.read_pickle(\"../dataset/train.pickle\")\n",
    "validate_data = pd.read_pickle(\"../dataset/validate.pickle\")\n",
    "test_data = pd.read_pickle(\"../dataset/test.pickle\")"
   ]
  },
  {
   "cell_type": "markdown",
   "metadata": {},
   "source": [
    "### Tokenize the source code"
   ]
  },
  {
   "cell_type": "markdown",
   "metadata": {},
   "source": [
    "#### BoW"
   ]
  },
  {
   "cell_type": "markdown",
   "metadata": {},
   "source": [
    "For data batching convenience, the paper trained only on functions with token length $10 \\leq l \\leq 500$, padded to the maximum length of **500**  \n",
    "The paper does not mention to pad the 0 at the end or at the beginning, so I assume they append the padding at the end (actually, this is not a big deal in CNN)"
   ]
  },
  {
   "cell_type": "markdown",
   "metadata": {},
   "source": [
    "text_to_word_sequence does not work since it ask a single string"
   ]
  },
  {
   "cell_type": "code",
   "execution_count": null,
   "metadata": {},
   "outputs": [],
   "source": [
    "# train_tokenized = tf.keras.preprocessing.text.text_to_word_sequence(train_data[0])\n",
    "# x_train = tf.keras.preprocessing.sequence.pad_sequences(train_tokenized, maxlen=500, padding=\"post\")"
   ]
  },
  {
   "cell_type": "code",
   "execution_count": null,
   "metadata": {},
   "outputs": [],
   "source": [
    "# validate_tokenized = tf.keras.preprocessing.text.text_to_word_sequence(validate_data[0])\n",
    "# x_validate = tf.keras.preprocessing.sequence.pad_sequences(validate_tokenized, maxlen=500, padding=\"post\")"
   ]
  },
  {
   "cell_type": "code",
   "execution_count": null,
   "metadata": {},
   "outputs": [],
   "source": [
    "# test_tokenized = tf.keras.preprocessing.text.text_to_word_sequence(test_data[0])\n",
    "# x_test = tf.keras.preprocessing.sequence.pad_sequences(test_tokenized, maxlen=500, padding=\"post\")"
   ]
  },
  {
   "cell_type": "markdown",
   "metadata": {},
   "source": [
    "#### Init the Tokenizer"
   ]
  },
  {
   "cell_type": "markdown",
   "metadata": {},
   "source": [
    "#### BoW"
   ]
  },
  {
   "cell_type": "code",
   "execution_count": 20,
   "metadata": {},
   "outputs": [],
   "source": [
    "# The paper does not declare the num of words to track, I am using 10000 here\n",
    "tokenizer = tf.keras.preprocessing.text.Tokenizer(num_words=10000)\n",
    "# Required before using texts_to_sequences\n",
    "# Arguments; a list of strings\n",
    "tokenizer.fit_on_texts(list(train_data[0]))"
   ]
  },
  {
   "cell_type": "markdown",
   "metadata": {},
   "source": [
    "For data batching convenience, the paper trained only on functions with token length $10 \\leq l \\leq 500$, padded to the maximum length of **500**  \n",
    "The paper does not mention to pad the 0 at the end or at the beginning, so I assume they append the padding at the end (actually, this is not a big deal in CNN)"
   ]
  },
  {
   "cell_type": "code",
   "execution_count": 21,
   "metadata": {
    "scrolled": true
   },
   "outputs": [],
   "source": [
    "train_tokenized = tokenizer.texts_to_sequences(train_data[0])\n",
    "x_train = tf.keras.preprocessing.sequence.pad_sequences(train_tokenized, maxlen=500, padding=\"post\")"
   ]
  },
  {
   "cell_type": "code",
   "execution_count": 22,
   "metadata": {},
   "outputs": [],
   "source": [
    "validate_tokenized = tokenizer.texts_to_sequences(validate_data[0])\n",
    "x_validate = tf.keras.preprocessing.sequence.pad_sequences(validate_tokenized, maxlen=500, padding=\"post\")"
   ]
  },
  {
   "cell_type": "code",
   "execution_count": 23,
   "metadata": {
    "scrolled": true
   },
   "outputs": [],
   "source": [
    "test_tokenized = tokenizer.texts_to_sequences(test_data[0])\n",
    "x_test = tf.keras.preprocessing.sequence.pad_sequences(test_tokenized, maxlen=500, padding=\"post\")"
   ]
  },
  {
   "cell_type": "code",
   "execution_count": 25,
   "metadata": {},
   "outputs": [],
   "source": [
    "y_train = train_data[train_data.columns[1:]].astype(int)\n",
    "y_validate = validate_data[validate_data.columns[1:]].astype(int)\n",
    "y_test = test_data[test_data.columns[1:]].astype(int)"
   ]
  },
  {
   "cell_type": "markdown",
   "metadata": {},
   "source": [
    "## Model Design"
   ]
  },
  {
   "cell_type": "code",
   "execution_count": 17,
   "metadata": {
    "scrolled": false
   },
   "outputs": [
    {
     "name": "stdout",
     "output_type": "stream",
     "text": [
      "Model: \"sequential_2\"\n",
      "_________________________________________________________________\n",
      "Layer (type)                 Output Shape              Param #   \n",
      "=================================================================\n",
      "embedding_2 (Embedding)      (None, 500, 13)           130000    \n",
      "_________________________________________________________________\n",
      "conv1d_2 (Conv1D)            (None, 492, 512)          60416     \n",
      "_________________________________________________________________\n",
      "max_pooling1d_2 (MaxPooling1 (None, 164, 512)          0         \n",
      "_________________________________________________________________\n",
      "dropout_2 (Dropout)          (None, 164, 512)          0         \n",
      "_________________________________________________________________\n",
      "flatten_2 (Flatten)          (None, 83968)             0         \n",
      "_________________________________________________________________\n",
      "dense_6 (Dense)              (None, 64)                5374016   \n",
      "_________________________________________________________________\n",
      "dense_7 (Dense)              (None, 16)                1040      \n",
      "_________________________________________________________________\n",
      "dense_8 (Dense)              (None, 5)                 85        \n",
      "=================================================================\n",
      "Total params: 5,565,557\n",
      "Trainable params: 5,565,557\n",
      "Non-trainable params: 0\n",
      "_________________________________________________________________\n"
     ]
    }
   ],
   "source": [
    "model = tf.keras.Sequential()\n",
    "model.add(tf.keras.layers.Embedding(input_dim=10000, output_dim=13, input_length=500))\n",
    "#model.add(tf.keras.layers.Conv1D(filters=512, kernel_size=9, padding=\"same\", activation=\"relu\"))\n",
    "model.add(tf.keras.layers.Conv1D(filters=512, kernel_size=9, activation=\"relu\"))\n",
    "model.add(tf.keras.layers.MaxPool1D(pool_size=3))\n",
    "model.add(tf.keras.layers.Dropout(rate=0.5))\n",
    "model.add(tf.keras.layers.Flatten())\n",
    "model.add(tf.keras.layers.Dense(units=64, activation=\"relu\"))\n",
    "model.add(tf.keras.layers.Dense(units=16, activation=\"relu\"))\n",
    "# I am using the sigmoid rather than the softmax mentioned in the paper\n",
    "model.add(tf.keras.layers.Dense(units=5, activation=\"sigmoid\"))\n",
    "\n",
    "# Adam Optimization with the parameter stated in the paper\n",
    "adam = tf.keras.optimizers.Adam(lr=0.005)\n",
    "\n",
    "model.compile(optimizer=\"adam\", loss=\"binary_crossentropy\", metrics=[tf.keras.metrics.AUC()])\n",
    "model.summary()"
   ]
  },
  {
   "cell_type": "code",
   "execution_count": null,
   "metadata": {
    "scrolled": true
   },
   "outputs": [
    {
     "name": "stdout",
     "output_type": "stream",
     "text": [
      "Epoch 1/10\n",
      " 611/7965 [=>............................] - ETA: 48:41 - loss: 0.0811 - auc_2: 0.8146"
     ]
    }
   ],
   "source": [
    "model.fit(x=x_train, y=y_train, batch_size=128, epochs=10, verbose=1, validation_data=(x_validate, y_validate))"
   ]
  },
  {
   "cell_type": "code",
   "execution_count": null,
   "metadata": {},
   "outputs": [],
   "source": []
  }
 ],
 "metadata": {
  "kernelspec": {
   "display_name": "Python 3",
   "language": "python",
   "name": "python3"
  },
  "language_info": {
   "codemirror_mode": {
    "name": "ipython",
    "version": 3
   },
   "file_extension": ".py",
   "mimetype": "text/x-python",
   "name": "python",
   "nbconvert_exporter": "python",
   "pygments_lexer": "ipython3",
   "version": "3.8.8"
  }
 },
 "nbformat": 4,
 "nbformat_minor": 2
}
